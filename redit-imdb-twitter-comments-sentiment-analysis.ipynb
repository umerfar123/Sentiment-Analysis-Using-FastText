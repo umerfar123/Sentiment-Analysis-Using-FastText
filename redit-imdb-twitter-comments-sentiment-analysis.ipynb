{
 "cells": [
  {
   "cell_type": "code",
   "execution_count": 1,
   "id": "a923b37c",
   "metadata": {
    "_cell_guid": "b1076dfc-b9ad-4769-8c92-a6c4dae69d19",
    "_uuid": "8f2839f25d086af736a60e9eeb907d3b93b6e0e5",
    "execution": {
     "iopub.execute_input": "2024-04-25T13:57:19.209238Z",
     "iopub.status.busy": "2024-04-25T13:57:19.208590Z",
     "iopub.status.idle": "2024-04-25T13:57:20.004938Z",
     "shell.execute_reply": "2024-04-25T13:57:20.003610Z"
    },
    "papermill": {
     "duration": 0.810324,
     "end_time": "2024-04-25T13:57:20.008534",
     "exception": false,
     "start_time": "2024-04-25T13:57:19.198210",
     "status": "completed"
    },
    "tags": []
   },
   "outputs": [
    {
     "name": "stdout",
     "output_type": "stream",
     "text": [
      "/kaggle/input/twitter-refined/twitter.csv\n",
      "/kaggle/input/sentimentdata/twitter.csv\n",
      "/kaggle/input/sentimentdata/imdb_master.csv\n",
      "/kaggle/input/redsent/Reddit_Data.csv\n"
     ]
    }
   ],
   "source": [
    "# This Python 3 environment comes with many helpful analytics libraries installed\n",
    "# It is defined by the kaggle/python Docker image: https://github.com/kaggle/docker-python\n",
    "# For example, here's several helpful packages to load\n",
    "\n",
    "import numpy as np # linear algebra\n",
    "import pandas as pd # data processing, CSV file I/O (e.g. pd.read_csv)\n",
    "\n",
    "# Input data files are available in the read-only \"../input/\" directory\n",
    "# For example, running this (by clicking run or pressing Shift+Enter) will list all files under the input directory\n",
    "\n",
    "import os\n",
    "for dirname, _, filenames in os.walk('/kaggle/input'):\n",
    "    for filename in filenames:\n",
    "        print(os.path.join(dirname, filename))\n",
    "\n",
    "# You can write up to 20GB to the current directory (/kaggle/working/) that gets preserved as output when you create a version using \"Save & Run All\" \n",
    "# You can also write temporary files to /kaggle/temp/, but they won't be saved outside of the current session"
   ]
  },
  {
   "cell_type": "code",
   "execution_count": 2,
   "id": "d66ae789",
   "metadata": {
    "execution": {
     "iopub.execute_input": "2024-04-25T13:57:20.027140Z",
     "iopub.status.busy": "2024-04-25T13:57:20.026686Z",
     "iopub.status.idle": "2024-04-25T13:57:30.352443Z",
     "shell.execute_reply": "2024-04-25T13:57:30.351290Z"
    },
    "papermill": {
     "duration": 10.338237,
     "end_time": "2024-04-25T13:57:30.355567",
     "exception": false,
     "start_time": "2024-04-25T13:57:20.017330",
     "status": "completed"
    },
    "tags": []
   },
   "outputs": [],
   "source": [
    "import pandas as pd\n",
    "\n",
    "\n",
    "twitter_data = pd.read_csv('/kaggle/input/sentimentdata/twitter.csv',encoding='latin1')\n",
    "redit_data = pd.read_csv('/kaggle/input/redsent/Reddit_Data.csv',encoding='latin1')\n",
    "imdb_data = pd.read_csv('/kaggle/input/sentimentdata/imdb_master.csv',encoding='latin1')\n"
   ]
  },
  {
   "cell_type": "code",
   "execution_count": 3,
   "id": "1a430977",
   "metadata": {
    "execution": {
     "iopub.execute_input": "2024-04-25T13:57:30.373314Z",
     "iopub.status.busy": "2024-04-25T13:57:30.372948Z",
     "iopub.status.idle": "2024-04-25T13:57:30.394038Z",
     "shell.execute_reply": "2024-04-25T13:57:30.393304Z"
    },
    "papermill": {
     "duration": 0.032007,
     "end_time": "2024-04-25T13:57:30.395874",
     "exception": false,
     "start_time": "2024-04-25T13:57:30.363867",
     "status": "completed"
    },
    "tags": []
   },
   "outputs": [
    {
     "data": {
      "text/html": [
       "<div>\n",
       "<style scoped>\n",
       "    .dataframe tbody tr th:only-of-type {\n",
       "        vertical-align: middle;\n",
       "    }\n",
       "\n",
       "    .dataframe tbody tr th {\n",
       "        vertical-align: top;\n",
       "    }\n",
       "\n",
       "    .dataframe thead th {\n",
       "        text-align: right;\n",
       "    }\n",
       "</style>\n",
       "<table border=\"1\" class=\"dataframe\">\n",
       "  <thead>\n",
       "    <tr style=\"text-align: right;\">\n",
       "      <th></th>\n",
       "      <th>0</th>\n",
       "      <th>1467810369</th>\n",
       "      <th>Mon Apr 06 22:19:45 PDT 2009</th>\n",
       "      <th>NO_QUERY</th>\n",
       "      <th>_TheSpecialOne_</th>\n",
       "      <th>@switchfoot http://twitpic.com/2y1zl - Awww, that's a bummer.  You shoulda got David Carr of Third Day to do it. ;D</th>\n",
       "    </tr>\n",
       "  </thead>\n",
       "  <tbody>\n",
       "    <tr>\n",
       "      <th>0</th>\n",
       "      <td>0</td>\n",
       "      <td>1467810672</td>\n",
       "      <td>Mon Apr 06 22:19:49 PDT 2009</td>\n",
       "      <td>NO_QUERY</td>\n",
       "      <td>scotthamilton</td>\n",
       "      <td>is upset that he can't update his Facebook by ...</td>\n",
       "    </tr>\n",
       "    <tr>\n",
       "      <th>1</th>\n",
       "      <td>0</td>\n",
       "      <td>1467810917</td>\n",
       "      <td>Mon Apr 06 22:19:53 PDT 2009</td>\n",
       "      <td>NO_QUERY</td>\n",
       "      <td>mattycus</td>\n",
       "      <td>@Kenichan I dived many times for the ball. Man...</td>\n",
       "    </tr>\n",
       "    <tr>\n",
       "      <th>2</th>\n",
       "      <td>0</td>\n",
       "      <td>1467811184</td>\n",
       "      <td>Mon Apr 06 22:19:57 PDT 2009</td>\n",
       "      <td>NO_QUERY</td>\n",
       "      <td>ElleCTF</td>\n",
       "      <td>my whole body feels itchy and like its on fire</td>\n",
       "    </tr>\n",
       "  </tbody>\n",
       "</table>\n",
       "</div>"
      ],
      "text/plain": [
       "   0  1467810369  Mon Apr 06 22:19:45 PDT 2009  NO_QUERY _TheSpecialOne_  \\\n",
       "0  0  1467810672  Mon Apr 06 22:19:49 PDT 2009  NO_QUERY   scotthamilton   \n",
       "1  0  1467810917  Mon Apr 06 22:19:53 PDT 2009  NO_QUERY        mattycus   \n",
       "2  0  1467811184  Mon Apr 06 22:19:57 PDT 2009  NO_QUERY         ElleCTF   \n",
       "\n",
       "  @switchfoot http://twitpic.com/2y1zl - Awww, that's a bummer.  You shoulda got David Carr of Third Day to do it. ;D  \n",
       "0  is upset that he can't update his Facebook by ...                                                                   \n",
       "1  @Kenichan I dived many times for the ball. Man...                                                                   \n",
       "2    my whole body feels itchy and like its on fire                                                                    "
      ]
     },
     "execution_count": 3,
     "metadata": {},
     "output_type": "execute_result"
    }
   ],
   "source": [
    "twitter_data.head(3)"
   ]
  },
  {
   "cell_type": "code",
   "execution_count": 4,
   "id": "37d4776a",
   "metadata": {
    "execution": {
     "iopub.execute_input": "2024-04-25T13:57:30.413757Z",
     "iopub.status.busy": "2024-04-25T13:57:30.413048Z",
     "iopub.status.idle": "2024-04-25T13:57:30.464405Z",
     "shell.execute_reply": "2024-04-25T13:57:30.463534Z"
    },
    "papermill": {
     "duration": 0.06283,
     "end_time": "2024-04-25T13:57:30.466718",
     "exception": false,
     "start_time": "2024-04-25T13:57:30.403888",
     "status": "completed"
    },
    "tags": []
   },
   "outputs": [],
   "source": [
    "twitter_data=twitter_data[['@switchfoot http://twitpic.com/2y1zl - Awww, that\\'s a bummer.  You shoulda got David Carr of Third Day to do it. ;D','0']]"
   ]
  },
  {
   "cell_type": "code",
   "execution_count": 5,
   "id": "984a114a",
   "metadata": {
    "execution": {
     "iopub.execute_input": "2024-04-25T13:57:30.485278Z",
     "iopub.status.busy": "2024-04-25T13:57:30.484593Z",
     "iopub.status.idle": "2024-04-25T13:57:30.493556Z",
     "shell.execute_reply": "2024-04-25T13:57:30.492806Z"
    },
    "papermill": {
     "duration": 0.02056,
     "end_time": "2024-04-25T13:57:30.495467",
     "exception": false,
     "start_time": "2024-04-25T13:57:30.474907",
     "status": "completed"
    },
    "tags": []
   },
   "outputs": [
    {
     "data": {
      "text/html": [
       "<div>\n",
       "<style scoped>\n",
       "    .dataframe tbody tr th:only-of-type {\n",
       "        vertical-align: middle;\n",
       "    }\n",
       "\n",
       "    .dataframe tbody tr th {\n",
       "        vertical-align: top;\n",
       "    }\n",
       "\n",
       "    .dataframe thead th {\n",
       "        text-align: right;\n",
       "    }\n",
       "</style>\n",
       "<table border=\"1\" class=\"dataframe\">\n",
       "  <thead>\n",
       "    <tr style=\"text-align: right;\">\n",
       "      <th></th>\n",
       "      <th>@switchfoot http://twitpic.com/2y1zl - Awww, that's a bummer.  You shoulda got David Carr of Third Day to do it. ;D</th>\n",
       "      <th>0</th>\n",
       "    </tr>\n",
       "  </thead>\n",
       "  <tbody>\n",
       "    <tr>\n",
       "      <th>0</th>\n",
       "      <td>is upset that he can't update his Facebook by ...</td>\n",
       "      <td>0</td>\n",
       "    </tr>\n",
       "    <tr>\n",
       "      <th>1</th>\n",
       "      <td>@Kenichan I dived many times for the ball. Man...</td>\n",
       "      <td>0</td>\n",
       "    </tr>\n",
       "    <tr>\n",
       "      <th>2</th>\n",
       "      <td>my whole body feels itchy and like its on fire</td>\n",
       "      <td>0</td>\n",
       "    </tr>\n",
       "  </tbody>\n",
       "</table>\n",
       "</div>"
      ],
      "text/plain": [
       "  @switchfoot http://twitpic.com/2y1zl - Awww, that's a bummer.  You shoulda got David Carr of Third Day to do it. ;D  \\\n",
       "0  is upset that he can't update his Facebook by ...                                                                    \n",
       "1  @Kenichan I dived many times for the ball. Man...                                                                    \n",
       "2    my whole body feels itchy and like its on fire                                                                     \n",
       "\n",
       "   0  \n",
       "0  0  \n",
       "1  0  \n",
       "2  0  "
      ]
     },
     "execution_count": 5,
     "metadata": {},
     "output_type": "execute_result"
    }
   ],
   "source": [
    "twitter_data.head(3)"
   ]
  },
  {
   "cell_type": "code",
   "execution_count": 6,
   "id": "07689c02",
   "metadata": {
    "execution": {
     "iopub.execute_input": "2024-04-25T13:57:30.514028Z",
     "iopub.status.busy": "2024-04-25T13:57:30.513618Z",
     "iopub.status.idle": "2024-04-25T13:57:31.743351Z",
     "shell.execute_reply": "2024-04-25T13:57:31.741888Z"
    },
    "papermill": {
     "duration": 1.24202,
     "end_time": "2024-04-25T13:57:31.746157",
     "exception": false,
     "start_time": "2024-04-25T13:57:30.504137",
     "status": "completed"
    },
    "tags": []
   },
   "outputs": [
    {
     "name": "stdout",
     "output_type": "stream",
     "text": [
      "                                                text sentimnt\n",
      "0  is upset that he can't update his Facebook by ...      neg\n",
      "1  @Kenichan I dived many times for the ball. Man...      neg\n",
      "2    my whole body feels itchy and like its on fire       neg\n",
      "3  @nationwideclass no, it's not behaving at all....      neg\n",
      "4                      @Kwesidei not the whole crew       neg\n"
     ]
    },
    {
     "data": {
      "text/plain": [
       "text        object\n",
       "sentimnt    object\n",
       "dtype: object"
      ]
     },
     "execution_count": 6,
     "metadata": {},
     "output_type": "execute_result"
    }
   ],
   "source": [
    "twitter_data.rename(columns={twitter_data.columns[1]: 'sentimnt'}, inplace=True)\n",
    "twitter_data.rename(columns={twitter_data.columns[0]: 'text'}, inplace=True)\n",
    "twitter_data.head(3)\n",
    "twitter_data['sentimnt'] = twitter_data['sentimnt'].astype(str)\n",
    "twitter_data['sentimnt'] = twitter_data['sentimnt'].replace({'4': 'pos', '0': 'neg'})\n",
    "twitter_data = twitter_data[twitter_data['sentimnt'] != '2']\n",
    "twitter_data.reset_index(drop=True, inplace=True)\n",
    "print(twitter_data.head(5))\n",
    "twitter_data.dtypes"
   ]
  },
  {
   "cell_type": "code",
   "execution_count": 7,
   "id": "57c09c22",
   "metadata": {
    "execution": {
     "iopub.execute_input": "2024-04-25T13:57:31.767013Z",
     "iopub.status.busy": "2024-04-25T13:57:31.766622Z",
     "iopub.status.idle": "2024-04-25T13:57:31.806298Z",
     "shell.execute_reply": "2024-04-25T13:57:31.805070Z"
    },
    "papermill": {
     "duration": 0.051824,
     "end_time": "2024-04-25T13:57:31.808413",
     "exception": false,
     "start_time": "2024-04-25T13:57:31.756589",
     "status": "completed"
    },
    "tags": []
   },
   "outputs": [
    {
     "name": "stdout",
     "output_type": "stream",
     "text": [
      "                                       clean_comment category\n",
      "0   family mormon have never tried explain them t...      pos\n",
      "1  buddhism has very much lot compatible with chr...      pos\n",
      "2  seriously don say thing first all they won get...      neg\n",
      "3  for your own benefit you may want read living ...      pos\n",
      "4  you should all sit down together and watch the...      neg\n"
     ]
    },
    {
     "data": {
      "text/plain": [
       "clean_comment    object\n",
       "category         object\n",
       "dtype: object"
      ]
     },
     "execution_count": 7,
     "metadata": {},
     "output_type": "execute_result"
    }
   ],
   "source": [
    "redit_data['category'] = redit_data['category'].astype(str)\n",
    "redit_data['category'] = redit_data['category'].replace({'1': 'pos', '-1': 'neg'})\n",
    "redit_data = redit_data[redit_data['category'] != '0']\n",
    "redit_data.reset_index(drop=True, inplace=True)\n",
    "print(redit_data.head(5))\n",
    "redit_data.dtypes"
   ]
  },
  {
   "cell_type": "code",
   "execution_count": 8,
   "id": "68b3a4a3",
   "metadata": {
    "execution": {
     "iopub.execute_input": "2024-04-25T13:57:31.827186Z",
     "iopub.status.busy": "2024-04-25T13:57:31.826844Z",
     "iopub.status.idle": "2024-04-25T13:57:31.845488Z",
     "shell.execute_reply": "2024-04-25T13:57:31.844370Z"
    },
    "papermill": {
     "duration": 0.030608,
     "end_time": "2024-04-25T13:57:31.847691",
     "exception": false,
     "start_time": "2024-04-25T13:57:31.817083",
     "status": "completed"
    },
    "tags": []
   },
   "outputs": [
    {
     "data": {
      "text/plain": [
       "review    object\n",
       "label     object\n",
       "dtype: object"
      ]
     },
     "execution_count": 8,
     "metadata": {},
     "output_type": "execute_result"
    }
   ],
   "source": [
    "imdb_data=imdb_data[['review','label']]\n",
    "imdb_data.head(2)\n",
    "imdb_data.dtypes"
   ]
  },
  {
   "cell_type": "code",
   "execution_count": 9,
   "id": "f3bae0e6",
   "metadata": {
    "execution": {
     "iopub.execute_input": "2024-04-25T13:57:31.867613Z",
     "iopub.status.busy": "2024-04-25T13:57:31.866842Z",
     "iopub.status.idle": "2024-04-25T13:57:32.010086Z",
     "shell.execute_reply": "2024-04-25T13:57:32.008766Z"
    },
    "papermill": {
     "duration": 0.155971,
     "end_time": "2024-04-25T13:57:32.012484",
     "exception": false,
     "start_time": "2024-04-25T13:57:31.856513",
     "status": "completed"
    },
    "tags": []
   },
   "outputs": [
    {
     "data": {
      "text/html": [
       "<div>\n",
       "<style scoped>\n",
       "    .dataframe tbody tr th:only-of-type {\n",
       "        vertical-align: middle;\n",
       "    }\n",
       "\n",
       "    .dataframe tbody tr th {\n",
       "        vertical-align: top;\n",
       "    }\n",
       "\n",
       "    .dataframe thead th {\n",
       "        text-align: right;\n",
       "    }\n",
       "</style>\n",
       "<table border=\"1\" class=\"dataframe\">\n",
       "  <thead>\n",
       "    <tr style=\"text-align: right;\">\n",
       "      <th></th>\n",
       "      <th>comments</th>\n",
       "      <th>labels</th>\n",
       "    </tr>\n",
       "  </thead>\n",
       "  <tbody>\n",
       "    <tr>\n",
       "      <th>0</th>\n",
       "      <td>Once again Mr. Costner has dragged out a movie...</td>\n",
       "      <td>neg</td>\n",
       "    </tr>\n",
       "    <tr>\n",
       "      <th>1</th>\n",
       "      <td>This is an example of why the majority of acti...</td>\n",
       "      <td>neg</td>\n",
       "    </tr>\n",
       "    <tr>\n",
       "      <th>2</th>\n",
       "      <td>First of all I hate those moronic rappers, who...</td>\n",
       "      <td>neg</td>\n",
       "    </tr>\n",
       "    <tr>\n",
       "      <th>3</th>\n",
       "      <td>Not even the Beatles could write songs everyon...</td>\n",
       "      <td>neg</td>\n",
       "    </tr>\n",
       "    <tr>\n",
       "      <th>4</th>\n",
       "      <td>Brass pictures (movies is not a fitting word f...</td>\n",
       "      <td>neg</td>\n",
       "    </tr>\n",
       "  </tbody>\n",
       "</table>\n",
       "</div>"
      ],
      "text/plain": [
       "                                            comments labels\n",
       "0  Once again Mr. Costner has dragged out a movie...    neg\n",
       "1  This is an example of why the majority of acti...    neg\n",
       "2  First of all I hate those moronic rappers, who...    neg\n",
       "3  Not even the Beatles could write songs everyon...    neg\n",
       "4  Brass pictures (movies is not a fitting word f...    neg"
      ]
     },
     "execution_count": 9,
     "metadata": {},
     "output_type": "execute_result"
    }
   ],
   "source": [
    "df = pd.DataFrame({\n",
    "    'comments': pd.concat([imdb_data['review'], redit_data['clean_comment'], twitter_data['text']]),\n",
    "    'labels': pd.concat([imdb_data['label'], redit_data['category'], twitter_data['sentimnt']])\n",
    "})\n",
    "\n",
    "# Reset index\n",
    "df.reset_index(drop=True, inplace=True)\n",
    "df.head()"
   ]
  },
  {
   "cell_type": "code",
   "execution_count": 10,
   "id": "e802b824",
   "metadata": {
    "execution": {
     "iopub.execute_input": "2024-04-25T13:57:32.032502Z",
     "iopub.status.busy": "2024-04-25T13:57:32.032119Z",
     "iopub.status.idle": "2024-04-25T13:57:32.039281Z",
     "shell.execute_reply": "2024-04-25T13:57:32.038075Z"
    },
    "papermill": {
     "duration": 0.020129,
     "end_time": "2024-04-25T13:57:32.041811",
     "exception": false,
     "start_time": "2024-04-25T13:57:32.021682",
     "status": "completed"
    },
    "tags": []
   },
   "outputs": [
    {
     "data": {
      "text/plain": [
       "(1724106, 2)"
      ]
     },
     "execution_count": 10,
     "metadata": {},
     "output_type": "execute_result"
    }
   ],
   "source": [
    "df.shape"
   ]
  },
  {
   "cell_type": "code",
   "execution_count": 11,
   "id": "3d41aecc",
   "metadata": {
    "execution": {
     "iopub.execute_input": "2024-04-25T13:57:32.063866Z",
     "iopub.status.busy": "2024-04-25T13:57:32.063524Z",
     "iopub.status.idle": "2024-04-25T13:57:32.072675Z",
     "shell.execute_reply": "2024-04-25T13:57:32.071326Z"
    },
    "papermill": {
     "duration": 0.022661,
     "end_time": "2024-04-25T13:57:32.075431",
     "exception": false,
     "start_time": "2024-04-25T13:57:32.052770",
     "status": "completed"
    },
    "tags": []
   },
   "outputs": [
    {
     "data": {
      "text/plain": [
       "comments    object\n",
       "labels      object\n",
       "dtype: object"
      ]
     },
     "execution_count": 11,
     "metadata": {},
     "output_type": "execute_result"
    }
   ],
   "source": [
    "df.dtypes"
   ]
  },
  {
   "cell_type": "code",
   "execution_count": 12,
   "id": "606b20cf",
   "metadata": {
    "execution": {
     "iopub.execute_input": "2024-04-25T13:57:32.097250Z",
     "iopub.status.busy": "2024-04-25T13:57:32.096904Z",
     "iopub.status.idle": "2024-04-25T13:57:32.108169Z",
     "shell.execute_reply": "2024-04-25T13:57:32.107005Z"
    },
    "papermill": {
     "duration": 0.024666,
     "end_time": "2024-04-25T13:57:32.110379",
     "exception": false,
     "start_time": "2024-04-25T13:57:32.085713",
     "status": "completed"
    },
    "tags": []
   },
   "outputs": [
    {
     "data": {
      "text/html": [
       "<div>\n",
       "<style scoped>\n",
       "    .dataframe tbody tr th:only-of-type {\n",
       "        vertical-align: middle;\n",
       "    }\n",
       "\n",
       "    .dataframe tbody tr th {\n",
       "        vertical-align: top;\n",
       "    }\n",
       "\n",
       "    .dataframe thead th {\n",
       "        text-align: right;\n",
       "    }\n",
       "</style>\n",
       "<table border=\"1\" class=\"dataframe\">\n",
       "  <thead>\n",
       "    <tr style=\"text-align: right;\">\n",
       "      <th></th>\n",
       "      <th>comments</th>\n",
       "      <th>labels</th>\n",
       "    </tr>\n",
       "  </thead>\n",
       "  <tbody>\n",
       "    <tr>\n",
       "      <th>1724101</th>\n",
       "      <td>Just woke up. Having no school is the best fee...</td>\n",
       "      <td>pos</td>\n",
       "    </tr>\n",
       "    <tr>\n",
       "      <th>1724102</th>\n",
       "      <td>TheWDB.com - Very cool to hear old Walt interv...</td>\n",
       "      <td>pos</td>\n",
       "    </tr>\n",
       "    <tr>\n",
       "      <th>1724103</th>\n",
       "      <td>Are you ready for your MoJo Makeover? Ask me f...</td>\n",
       "      <td>pos</td>\n",
       "    </tr>\n",
       "    <tr>\n",
       "      <th>1724104</th>\n",
       "      <td>Happy 38th Birthday to my boo of alll time!!! ...</td>\n",
       "      <td>pos</td>\n",
       "    </tr>\n",
       "    <tr>\n",
       "      <th>1724105</th>\n",
       "      <td>happy #charitytuesday @theNSPCC @SparksCharity...</td>\n",
       "      <td>pos</td>\n",
       "    </tr>\n",
       "  </tbody>\n",
       "</table>\n",
       "</div>"
      ],
      "text/plain": [
       "                                                  comments labels\n",
       "1724101  Just woke up. Having no school is the best fee...    pos\n",
       "1724102  TheWDB.com - Very cool to hear old Walt interv...    pos\n",
       "1724103  Are you ready for your MoJo Makeover? Ask me f...    pos\n",
       "1724104  Happy 38th Birthday to my boo of alll time!!! ...    pos\n",
       "1724105  happy #charitytuesday @theNSPCC @SparksCharity...    pos"
      ]
     },
     "execution_count": 12,
     "metadata": {},
     "output_type": "execute_result"
    }
   ],
   "source": [
    "df.tail()"
   ]
  },
  {
   "cell_type": "code",
   "execution_count": 13,
   "id": "9fbad55a",
   "metadata": {
    "execution": {
     "iopub.execute_input": "2024-04-25T13:57:32.131430Z",
     "iopub.status.busy": "2024-04-25T13:57:32.130624Z",
     "iopub.status.idle": "2024-04-25T13:57:32.149773Z",
     "shell.execute_reply": "2024-04-25T13:57:32.148630Z"
    },
    "papermill": {
     "duration": 0.032572,
     "end_time": "2024-04-25T13:57:32.152506",
     "exception": false,
     "start_time": "2024-04-25T13:57:32.119934",
     "status": "completed"
    },
    "tags": []
   },
   "outputs": [
    {
     "name": "stdout",
     "output_type": "stream",
     "text": [
      "<class 'pandas.core.frame.DataFrame'>\n",
      "RangeIndex: 1724106 entries, 0 to 1724105\n",
      "Data columns (total 2 columns):\n",
      " #   Column    Dtype \n",
      "---  ------    ----- \n",
      " 0   comments  object\n",
      " 1   labels    object\n",
      "dtypes: object(2)\n",
      "memory usage: 26.3+ MB\n"
     ]
    }
   ],
   "source": [
    "df.info()"
   ]
  },
  {
   "cell_type": "code",
   "execution_count": 14,
   "id": "8ade7654",
   "metadata": {
    "execution": {
     "iopub.execute_input": "2024-04-25T13:57:32.173694Z",
     "iopub.status.busy": "2024-04-25T13:57:32.172919Z",
     "iopub.status.idle": "2024-04-25T13:57:32.373354Z",
     "shell.execute_reply": "2024-04-25T13:57:32.372234Z"
    },
    "papermill": {
     "duration": 0.213646,
     "end_time": "2024-04-25T13:57:32.375667",
     "exception": false,
     "start_time": "2024-04-25T13:57:32.162021",
     "status": "completed"
    },
    "tags": []
   },
   "outputs": [
    {
     "data": {
      "text/plain": [
       "comments    0\n",
       "labels      0\n",
       "dtype: int64"
      ]
     },
     "execution_count": 14,
     "metadata": {},
     "output_type": "execute_result"
    }
   ],
   "source": [
    "df.isnull().sum()"
   ]
  },
  {
   "cell_type": "code",
   "execution_count": 15,
   "id": "f55cc049",
   "metadata": {
    "execution": {
     "iopub.execute_input": "2024-04-25T13:57:32.397634Z",
     "iopub.status.busy": "2024-04-25T13:57:32.396849Z",
     "iopub.status.idle": "2024-04-25T13:57:46.263996Z",
     "shell.execute_reply": "2024-04-25T13:57:46.262959Z"
    },
    "papermill": {
     "duration": 13.880957,
     "end_time": "2024-04-25T13:57:46.266400",
     "exception": false,
     "start_time": "2024-04-25T13:57:32.385443",
     "status": "completed"
    },
    "tags": []
   },
   "outputs": [
    {
     "name": "stderr",
     "output_type": "stream",
     "text": [
      "2024-04-25 13:57:36.007829: E external/local_xla/xla/stream_executor/cuda/cuda_dnn.cc:9261] Unable to register cuDNN factory: Attempting to register factory for plugin cuDNN when one has already been registered\n",
      "2024-04-25 13:57:36.007952: E external/local_xla/xla/stream_executor/cuda/cuda_fft.cc:607] Unable to register cuFFT factory: Attempting to register factory for plugin cuFFT when one has already been registered\n",
      "2024-04-25 13:57:36.139195: E external/local_xla/xla/stream_executor/cuda/cuda_blas.cc:1515] Unable to register cuBLAS factory: Attempting to register factory for plugin cuBLAS when one has already been registered\n"
     ]
    }
   ],
   "source": [
    "import re,string,nltk\n",
    "import tensorflow as tf\n",
    "from nltk.corpus import stopwords\n",
    "from nltk.corpus import wordnet\n",
    "from nltk.stem import PorterStemmer,WordNetLemmatizer\n",
    "\n"
   ]
  },
  {
   "cell_type": "code",
   "execution_count": 16,
   "id": "1a2236a0",
   "metadata": {
    "execution": {
     "iopub.execute_input": "2024-04-25T13:57:46.289031Z",
     "iopub.status.busy": "2024-04-25T13:57:46.287970Z",
     "iopub.status.idle": "2024-04-25T13:57:46.296206Z",
     "shell.execute_reply": "2024-04-25T13:57:46.295022Z"
    },
    "papermill": {
     "duration": 0.022097,
     "end_time": "2024-04-25T13:57:46.298311",
     "exception": false,
     "start_time": "2024-04-25T13:57:46.276214",
     "status": "completed"
    },
    "tags": []
   },
   "outputs": [],
   "source": [
    "def replace_url(text):\n",
    "    return re.sub('https?:\\/\\/\\S*|www\\.\\S+','URL',text)\n",
    "\n",
    "#removing html\n",
    "def remove_html(text):\n",
    "    return re.sub('<.*?>','',text)\n",
    "\n",
    "#replacing mentions with string user\n",
    "def replace_mentions(text):\n",
    "    return re.sub('@\\S*','user',text,flags=re.IGNORECASE)\n",
    "\n",
    "#replacing numbers with string number\n",
    "def replace_num(text):\n",
    "    return re.sub('^[+-]*?\\d{1,3}[- ]*?\\d{1,10}|\\d{10}','NUMBER',text)\n",
    "\n",
    "#replacing <3 with sring heart\n",
    "def replace_heart(text):\n",
    "    return re.sub('<3','HEART', text)\n",
    "\n",
    "#removing alphanumeric characters eg-XYZ123ABC\n",
    "def remove_alphanumeric(text):\n",
    "    return re.sub('\\w*\\d+\\w*','',text)\n",
    "\n",
    "\n",
    "#removing punctuations\n",
    "def remove_punctuations(text):\n",
    "    text=''.join([word for word in text if word not in string.punctuation])\n",
    "    return text\n",
    "\n"
   ]
  },
  {
   "cell_type": "code",
   "execution_count": 17,
   "id": "a4ae7f9d",
   "metadata": {
    "execution": {
     "iopub.execute_input": "2024-04-25T13:57:46.320514Z",
     "iopub.status.busy": "2024-04-25T13:57:46.320079Z",
     "iopub.status.idle": "2024-04-25T13:57:46.325800Z",
     "shell.execute_reply": "2024-04-25T13:57:46.324790Z"
    },
    "papermill": {
     "duration": 0.019051,
     "end_time": "2024-04-25T13:57:46.327650",
     "exception": false,
     "start_time": "2024-04-25T13:57:46.308599",
     "status": "completed"
    },
    "tags": []
   },
   "outputs": [],
   "source": [
    "def clean_text(text):\n",
    "    text=str(text).lower()\n",
    "    text = replace_url(text)\n",
    "    text = remove_html(text)\n",
    "    text = replace_mentions(text)\n",
    "    text = replace_num(text)\n",
    "    text = replace_heart(text)\n",
    "    text = remove_alphanumeric(text)\n",
    "    text=remove_punctuations(text)\n",
    "    return text"
   ]
  },
  {
   "cell_type": "code",
   "execution_count": 18,
   "id": "6685da8d",
   "metadata": {
    "execution": {
     "iopub.execute_input": "2024-04-25T13:57:46.348319Z",
     "iopub.status.busy": "2024-04-25T13:57:46.347708Z",
     "iopub.status.idle": "2024-04-25T13:59:21.420104Z",
     "shell.execute_reply": "2024-04-25T13:59:21.418967Z"
    },
    "papermill": {
     "duration": 95.08604,
     "end_time": "2024-04-25T13:59:21.423054",
     "exception": false,
     "start_time": "2024-04-25T13:57:46.337014",
     "status": "completed"
    },
    "tags": []
   },
   "outputs": [],
   "source": [
    "df['comments']=df['comments'].apply(clean_text)"
   ]
  },
  {
   "cell_type": "code",
   "execution_count": 19,
   "id": "b2711d9b",
   "metadata": {
    "execution": {
     "iopub.execute_input": "2024-04-25T13:59:21.445333Z",
     "iopub.status.busy": "2024-04-25T13:59:21.444325Z",
     "iopub.status.idle": "2024-04-25T13:59:21.453781Z",
     "shell.execute_reply": "2024-04-25T13:59:21.452986Z"
    },
    "papermill": {
     "duration": 0.022411,
     "end_time": "2024-04-25T13:59:21.455697",
     "exception": false,
     "start_time": "2024-04-25T13:59:21.433286",
     "status": "completed"
    },
    "tags": []
   },
   "outputs": [
    {
     "data": {
      "text/html": [
       "<div>\n",
       "<style scoped>\n",
       "    .dataframe tbody tr th:only-of-type {\n",
       "        vertical-align: middle;\n",
       "    }\n",
       "\n",
       "    .dataframe tbody tr th {\n",
       "        vertical-align: top;\n",
       "    }\n",
       "\n",
       "    .dataframe thead th {\n",
       "        text-align: right;\n",
       "    }\n",
       "</style>\n",
       "<table border=\"1\" class=\"dataframe\">\n",
       "  <thead>\n",
       "    <tr style=\"text-align: right;\">\n",
       "      <th></th>\n",
       "      <th>comments</th>\n",
       "      <th>labels</th>\n",
       "    </tr>\n",
       "  </thead>\n",
       "  <tbody>\n",
       "    <tr>\n",
       "      <th>1724101</th>\n",
       "      <td>just woke up having no school is the best feel...</td>\n",
       "      <td>pos</td>\n",
       "    </tr>\n",
       "    <tr>\n",
       "      <th>1724102</th>\n",
       "      <td>thewdbcom  very cool to hear old walt intervie...</td>\n",
       "      <td>pos</td>\n",
       "    </tr>\n",
       "    <tr>\n",
       "      <th>1724103</th>\n",
       "      <td>are you ready for your mojo makeover ask me fo...</td>\n",
       "      <td>pos</td>\n",
       "    </tr>\n",
       "    <tr>\n",
       "      <th>1724104</th>\n",
       "      <td>happy  birthday to my boo of alll time tupac a...</td>\n",
       "      <td>pos</td>\n",
       "    </tr>\n",
       "    <tr>\n",
       "      <th>1724105</th>\n",
       "      <td>happy charitytuesday user user user</td>\n",
       "      <td>pos</td>\n",
       "    </tr>\n",
       "  </tbody>\n",
       "</table>\n",
       "</div>"
      ],
      "text/plain": [
       "                                                  comments labels\n",
       "1724101  just woke up having no school is the best feel...    pos\n",
       "1724102  thewdbcom  very cool to hear old walt intervie...    pos\n",
       "1724103  are you ready for your mojo makeover ask me fo...    pos\n",
       "1724104  happy  birthday to my boo of alll time tupac a...    pos\n",
       "1724105               happy charitytuesday user user user     pos"
      ]
     },
     "execution_count": 19,
     "metadata": {},
     "output_type": "execute_result"
    }
   ],
   "source": [
    "df.tail()"
   ]
  },
  {
   "cell_type": "code",
   "execution_count": 20,
   "id": "c07184ad",
   "metadata": {
    "execution": {
     "iopub.execute_input": "2024-04-25T13:59:21.477417Z",
     "iopub.status.busy": "2024-04-25T13:59:21.476543Z",
     "iopub.status.idle": "2024-04-25T13:59:21.734078Z",
     "shell.execute_reply": "2024-04-25T13:59:21.733053Z"
    },
    "papermill": {
     "duration": 0.270921,
     "end_time": "2024-04-25T13:59:21.736413",
     "exception": false,
     "start_time": "2024-04-25T13:59:21.465492",
     "status": "completed"
    },
    "tags": []
   },
   "outputs": [
    {
     "data": {
      "text/html": [
       "<div>\n",
       "<style scoped>\n",
       "    .dataframe tbody tr th:only-of-type {\n",
       "        vertical-align: middle;\n",
       "    }\n",
       "\n",
       "    .dataframe tbody tr th {\n",
       "        vertical-align: top;\n",
       "    }\n",
       "\n",
       "    .dataframe thead th {\n",
       "        text-align: right;\n",
       "    }\n",
       "</style>\n",
       "<table border=\"1\" class=\"dataframe\">\n",
       "  <thead>\n",
       "    <tr style=\"text-align: right;\">\n",
       "      <th></th>\n",
       "      <th>comments</th>\n",
       "    </tr>\n",
       "    <tr>\n",
       "      <th>labels</th>\n",
       "      <th></th>\n",
       "    </tr>\n",
       "  </thead>\n",
       "  <tbody>\n",
       "    <tr>\n",
       "      <th>neg</th>\n",
       "      <td>833276</td>\n",
       "    </tr>\n",
       "    <tr>\n",
       "      <th>pos</th>\n",
       "      <td>840830</td>\n",
       "    </tr>\n",
       "    <tr>\n",
       "      <th>unsup</th>\n",
       "      <td>50000</td>\n",
       "    </tr>\n",
       "  </tbody>\n",
       "</table>\n",
       "</div>"
      ],
      "text/plain": [
       "        comments\n",
       "labels          \n",
       "neg       833276\n",
       "pos       840830\n",
       "unsup      50000"
      ]
     },
     "execution_count": 20,
     "metadata": {},
     "output_type": "execute_result"
    }
   ],
   "source": [
    "df.groupby('labels').count()"
   ]
  },
  {
   "cell_type": "code",
   "execution_count": 21,
   "id": "3b0bb0de",
   "metadata": {
    "execution": {
     "iopub.execute_input": "2024-04-25T13:59:21.760356Z",
     "iopub.status.busy": "2024-04-25T13:59:21.759979Z",
     "iopub.status.idle": "2024-04-25T13:59:21.991078Z",
     "shell.execute_reply": "2024-04-25T13:59:21.990012Z"
    },
    "papermill": {
     "duration": 0.246151,
     "end_time": "2024-04-25T13:59:21.993982",
     "exception": false,
     "start_time": "2024-04-25T13:59:21.747831",
     "status": "completed"
    },
    "tags": []
   },
   "outputs": [],
   "source": [
    "df = df[df['labels'] != 'unsup']\n",
    "df.reset_index(drop=True, inplace=True)"
   ]
  },
  {
   "cell_type": "code",
   "execution_count": 22,
   "id": "1a66458c",
   "metadata": {
    "execution": {
     "iopub.execute_input": "2024-04-25T13:59:22.016323Z",
     "iopub.status.busy": "2024-04-25T13:59:22.015938Z",
     "iopub.status.idle": "2024-04-25T13:59:22.238945Z",
     "shell.execute_reply": "2024-04-25T13:59:22.237863Z"
    },
    "papermill": {
     "duration": 0.237305,
     "end_time": "2024-04-25T13:59:22.241540",
     "exception": false,
     "start_time": "2024-04-25T13:59:22.004235",
     "status": "completed"
    },
    "tags": []
   },
   "outputs": [
    {
     "data": {
      "text/html": [
       "<div>\n",
       "<style scoped>\n",
       "    .dataframe tbody tr th:only-of-type {\n",
       "        vertical-align: middle;\n",
       "    }\n",
       "\n",
       "    .dataframe tbody tr th {\n",
       "        vertical-align: top;\n",
       "    }\n",
       "\n",
       "    .dataframe thead th {\n",
       "        text-align: right;\n",
       "    }\n",
       "</style>\n",
       "<table border=\"1\" class=\"dataframe\">\n",
       "  <thead>\n",
       "    <tr style=\"text-align: right;\">\n",
       "      <th></th>\n",
       "      <th>comments</th>\n",
       "    </tr>\n",
       "    <tr>\n",
       "      <th>labels</th>\n",
       "      <th></th>\n",
       "    </tr>\n",
       "  </thead>\n",
       "  <tbody>\n",
       "    <tr>\n",
       "      <th>neg</th>\n",
       "      <td>833276</td>\n",
       "    </tr>\n",
       "    <tr>\n",
       "      <th>pos</th>\n",
       "      <td>840830</td>\n",
       "    </tr>\n",
       "  </tbody>\n",
       "</table>\n",
       "</div>"
      ],
      "text/plain": [
       "        comments\n",
       "labels          \n",
       "neg       833276\n",
       "pos       840830"
      ]
     },
     "execution_count": 22,
     "metadata": {},
     "output_type": "execute_result"
    }
   ],
   "source": [
    "df.groupby('labels').count()"
   ]
  },
  {
   "cell_type": "code",
   "execution_count": 23,
   "id": "0da174d9",
   "metadata": {
    "execution": {
     "iopub.execute_input": "2024-04-25T13:59:22.264053Z",
     "iopub.status.busy": "2024-04-25T13:59:22.263700Z",
     "iopub.status.idle": "2024-04-25T13:59:22.270381Z",
     "shell.execute_reply": "2024-04-25T13:59:22.269259Z"
    },
    "papermill": {
     "duration": 0.020782,
     "end_time": "2024-04-25T13:59:22.272589",
     "exception": false,
     "start_time": "2024-04-25T13:59:22.251807",
     "status": "completed"
    },
    "tags": []
   },
   "outputs": [
    {
     "data": {
      "text/plain": [
       "(1674106, 2)"
      ]
     },
     "execution_count": 23,
     "metadata": {},
     "output_type": "execute_result"
    }
   ],
   "source": [
    "df.shape"
   ]
  },
  {
   "cell_type": "code",
   "execution_count": 24,
   "id": "f8e549b4",
   "metadata": {
    "execution": {
     "iopub.execute_input": "2024-04-25T13:59:22.295156Z",
     "iopub.status.busy": "2024-04-25T13:59:22.294806Z",
     "iopub.status.idle": "2024-04-25T13:59:23.686878Z",
     "shell.execute_reply": "2024-04-25T13:59:23.685532Z"
    },
    "papermill": {
     "duration": 1.406183,
     "end_time": "2024-04-25T13:59:23.689155",
     "exception": false,
     "start_time": "2024-04-25T13:59:22.282972",
     "status": "completed"
    },
    "tags": []
   },
   "outputs": [
    {
     "name": "stdout",
     "output_type": "stream",
     "text": [
      "(1171874, 3)\n",
      "(502232, 3)\n"
     ]
    }
   ],
   "source": [
    "from sklearn.model_selection import train_test_split\n",
    "\n",
    "df['final_data'] = \"__label__\" + df['labels'].astype(str) + \" \" + df['comments']\n",
    "train, test = train_test_split(df, test_size=0.3)\n",
    "\n",
    "print(train.shape)\n",
    "print(test.shape)"
   ]
  },
  {
   "cell_type": "code",
   "execution_count": 25,
   "id": "e5f82367",
   "metadata": {
    "execution": {
     "iopub.execute_input": "2024-04-25T13:59:23.711901Z",
     "iopub.status.busy": "2024-04-25T13:59:23.711485Z",
     "iopub.status.idle": "2024-04-25T13:59:23.722310Z",
     "shell.execute_reply": "2024-04-25T13:59:23.721267Z"
    },
    "papermill": {
     "duration": 0.024989,
     "end_time": "2024-04-25T13:59:23.724586",
     "exception": false,
     "start_time": "2024-04-25T13:59:23.699597",
     "status": "completed"
    },
    "tags": []
   },
   "outputs": [
    {
     "data": {
      "text/html": [
       "<div>\n",
       "<style scoped>\n",
       "    .dataframe tbody tr th:only-of-type {\n",
       "        vertical-align: middle;\n",
       "    }\n",
       "\n",
       "    .dataframe tbody tr th {\n",
       "        vertical-align: top;\n",
       "    }\n",
       "\n",
       "    .dataframe thead th {\n",
       "        text-align: right;\n",
       "    }\n",
       "</style>\n",
       "<table border=\"1\" class=\"dataframe\">\n",
       "  <thead>\n",
       "    <tr style=\"text-align: right;\">\n",
       "      <th></th>\n",
       "      <th>comments</th>\n",
       "      <th>labels</th>\n",
       "      <th>final_data</th>\n",
       "    </tr>\n",
       "  </thead>\n",
       "  <tbody>\n",
       "    <tr>\n",
       "      <th>1017477</th>\n",
       "      <td>at my parents house sitting outside and using ...</td>\n",
       "      <td>pos</td>\n",
       "      <td>__label__pos at my parents house sitting outsi...</td>\n",
       "    </tr>\n",
       "    <tr>\n",
       "      <th>602676</th>\n",
       "      <td>christ  why did it have to be someone nice</td>\n",
       "      <td>neg</td>\n",
       "      <td>__label__neg christ  why did it have to be som...</td>\n",
       "    </tr>\n",
       "    <tr>\n",
       "      <th>490870</th>\n",
       "      <td>is excited for tomorrow but is missing her lit...</td>\n",
       "      <td>neg</td>\n",
       "      <td>__label__neg is excited for tomorrow but is mi...</td>\n",
       "    </tr>\n",
       "    <tr>\n",
       "      <th>582337</th>\n",
       "      <td>just got home from work amp stevens started a ...</td>\n",
       "      <td>neg</td>\n",
       "      <td>__label__neg just got home from work amp steve...</td>\n",
       "    </tr>\n",
       "    <tr>\n",
       "      <th>1323825</th>\n",
       "      <td>user i thinks its quite sweet that you take th...</td>\n",
       "      <td>pos</td>\n",
       "      <td>__label__pos user i thinks its quite sweet tha...</td>\n",
       "    </tr>\n",
       "  </tbody>\n",
       "</table>\n",
       "</div>"
      ],
      "text/plain": [
       "                                                  comments labels  \\\n",
       "1017477  at my parents house sitting outside and using ...    pos   \n",
       "602676          christ  why did it have to be someone nice    neg   \n",
       "490870   is excited for tomorrow but is missing her lit...    neg   \n",
       "582337   just got home from work amp stevens started a ...    neg   \n",
       "1323825  user i thinks its quite sweet that you take th...    pos   \n",
       "\n",
       "                                                final_data  \n",
       "1017477  __label__pos at my parents house sitting outsi...  \n",
       "602676   __label__neg christ  why did it have to be som...  \n",
       "490870   __label__neg is excited for tomorrow but is mi...  \n",
       "582337   __label__neg just got home from work amp steve...  \n",
       "1323825  __label__pos user i thinks its quite sweet tha...  "
      ]
     },
     "execution_count": 25,
     "metadata": {},
     "output_type": "execute_result"
    }
   ],
   "source": [
    "train.head()"
   ]
  },
  {
   "cell_type": "code",
   "execution_count": 26,
   "id": "2d64054c",
   "metadata": {
    "execution": {
     "iopub.execute_input": "2024-04-25T13:59:23.746908Z",
     "iopub.status.busy": "2024-04-25T13:59:23.746565Z",
     "iopub.status.idle": "2024-04-25T13:59:30.221988Z",
     "shell.execute_reply": "2024-04-25T13:59:30.220733Z"
    },
    "papermill": {
     "duration": 6.48963,
     "end_time": "2024-04-25T13:59:30.224574",
     "exception": false,
     "start_time": "2024-04-25T13:59:23.734944",
     "status": "completed"
    },
    "tags": []
   },
   "outputs": [],
   "source": [
    "train.to_csv(\"train_reviews.csv\",columns=['final_data'],index=False,header=False)\n",
    "test.to_csv(\"test_reviews.csv\",columns=['final_data'],index=False,header=False)"
   ]
  },
  {
   "cell_type": "code",
   "execution_count": 27,
   "id": "3e5f2bf5",
   "metadata": {
    "execution": {
     "iopub.execute_input": "2024-04-25T13:59:30.247792Z",
     "iopub.status.busy": "2024-04-25T13:59:30.246918Z",
     "iopub.status.idle": "2024-04-25T13:59:30.262516Z",
     "shell.execute_reply": "2024-04-25T13:59:30.261428Z"
    },
    "papermill": {
     "duration": 0.029866,
     "end_time": "2024-04-25T13:59:30.264865",
     "exception": false,
     "start_time": "2024-04-25T13:59:30.234999",
     "status": "completed"
    },
    "tags": []
   },
   "outputs": [],
   "source": [
    "import fasttext"
   ]
  },
  {
   "cell_type": "code",
   "execution_count": 28,
   "id": "970286da",
   "metadata": {
    "execution": {
     "iopub.execute_input": "2024-04-25T13:59:30.287359Z",
     "iopub.status.busy": "2024-04-25T13:59:30.286925Z",
     "iopub.status.idle": "2024-04-25T14:00:04.750251Z",
     "shell.execute_reply": "2024-04-25T14:00:04.749054Z"
    },
    "papermill": {
     "duration": 34.47931,
     "end_time": "2024-04-25T14:00:04.754638",
     "exception": false,
     "start_time": "2024-04-25T13:59:30.275328",
     "status": "completed"
    },
    "tags": []
   },
   "outputs": [
    {
     "name": "stderr",
     "output_type": "stream",
     "text": [
      "Read 25M words\n",
      "Number of words:  459220\n",
      "Number of labels: 2\n",
      "Progress: 100.0% words/sec/thread: 1378736 lr:  0.000000 avg.loss:  0.451894 ETA:   0h 0m 0s\n"
     ]
    }
   ],
   "source": [
    "myModel = fasttext.train_supervised(input=r\"train_reviews.csv\")"
   ]
  },
  {
   "cell_type": "code",
   "execution_count": 29,
   "id": "108d790d",
   "metadata": {
    "execution": {
     "iopub.execute_input": "2024-04-25T14:00:04.795647Z",
     "iopub.status.busy": "2024-04-25T14:00:04.795204Z",
     "iopub.status.idle": "2024-04-25T14:00:08.071491Z",
     "shell.execute_reply": "2024-04-25T14:00:08.070186Z"
    },
    "papermill": {
     "duration": 3.298463,
     "end_time": "2024-04-25T14:00:08.073765",
     "exception": false,
     "start_time": "2024-04-25T14:00:04.775302",
     "status": "completed"
    },
    "tags": []
   },
   "outputs": [
    {
     "name": "stdout",
     "output_type": "stream",
     "text": [
      "(502152, 0.7976767990568593, 0.7976767990568593)\n"
     ]
    }
   ],
   "source": [
    "test_results = myModel.test(\"test_reviews.csv\")\n",
    "print(test_results)"
   ]
  },
  {
   "cell_type": "code",
   "execution_count": 30,
   "id": "f3d98537",
   "metadata": {
    "execution": {
     "iopub.execute_input": "2024-04-25T14:00:08.112188Z",
     "iopub.status.busy": "2024-04-25T14:00:08.111744Z",
     "iopub.status.idle": "2024-04-25T14:00:08.119915Z",
     "shell.execute_reply": "2024-04-25T14:00:08.118895Z"
    },
    "papermill": {
     "duration": 0.029762,
     "end_time": "2024-04-25T14:00:08.122090",
     "exception": false,
     "start_time": "2024-04-25T14:00:08.092328",
     "status": "completed"
    },
    "tags": []
   },
   "outputs": [
    {
     "data": {
      "text/plain": [
       "(('__label__neg',), array([0.54937136]))"
      ]
     },
     "execution_count": 30,
     "metadata": {},
     "output_type": "execute_result"
    }
   ],
   "source": [
    "myModel.predict(\"An operating system is essentially a glorified paperweight for computers. It's supposed to manage hardware and software resources, but in reality, it's just a cumbersome layer of complexity that slows down performance and frustrates users. Instead of providing common services for computer programs, it often gets in the way and creates more problems than it solves. Users are left grappling with constant errors and crashes, leading to a less efficient computing experience overall.\")"
   ]
  },
  {
   "cell_type": "code",
   "execution_count": 31,
   "id": "a5aaabdd",
   "metadata": {
    "execution": {
     "iopub.execute_input": "2024-04-25T14:00:08.160521Z",
     "iopub.status.busy": "2024-04-25T14:00:08.160042Z",
     "iopub.status.idle": "2024-04-25T14:00:17.455323Z",
     "shell.execute_reply": "2024-04-25T14:00:17.454531Z"
    },
    "papermill": {
     "duration": 9.317237,
     "end_time": "2024-04-25T14:00:17.457539",
     "exception": false,
     "start_time": "2024-04-25T14:00:08.140302",
     "status": "completed"
    },
    "tags": []
   },
   "outputs": [
    {
     "data": {
      "image/png": "[encoded data removed]",
      "text/plain": [
       "<Figure size 1000x600 with 2 Axes>"
      ]
     },
     "metadata": {},
     "output_type": "display_data"
    }
   ],
   "source": [
    "import numpy as np\n",
    "import pandas as pd\n",
    "import seaborn as sns\n",
    "import matplotlib.pyplot as plt\n",
    "from sklearn.metrics import confusion_matrix\n",
    "\n",
    "def predict_labels(model, data):\n",
    "    predictions = []\n",
    "    for review in data['comments']:\n",
    "        # Assuming you have preprocessed the review text as required\n",
    "        # If not, preprocess the review text here before passing it to the model\n",
    "        review = review.replace('\\n', '')\n",
    "        prediction = model.predict(review)[0][0]  # Get the prediction in format '__label__neg'\n",
    "        sentiment = prediction.split('__')[-1]   # Extract sentiment class ('neg' or 'pos')\n",
    "        predictions.append(sentiment)\n",
    "    return predictions\n",
    "\n",
    "# Make predictions on the test data\n",
    "predicted_labels = predict_labels(myModel, test)\n",
    "\n",
    "# Construct confusion matrix\n",
    "conf_matrix = confusion_matrix(test['labels'], predicted_labels)\n",
    "\n",
    "# Plot confusion matrix\n",
    "plt.figure(figsize=(10, 6))\n",
    "sns.heatmap(conf_matrix, annot=True, cmap='Blues', fmt='d')\n",
    "plt.title('Confusion Matrix')\n",
    "plt.xlabel('Predicted Label')\n",
    "plt.ylabel('Actual Label')\n",
    "plt.show()"
   ]
  },
  {
   "cell_type": "code",
   "execution_count": 32,
   "id": "8ada01bd",
   "metadata": {
    "execution": {
     "iopub.execute_input": "2024-04-25T14:00:17.498868Z",
     "iopub.status.busy": "2024-04-25T14:00:17.498031Z",
     "iopub.status.idle": "2024-04-25T14:00:17.504593Z",
     "shell.execute_reply": "2024-04-25T14:00:17.503872Z"
    },
    "papermill": {
     "duration": 0.029683,
     "end_time": "2024-04-25T14:00:17.506524",
     "exception": false,
     "start_time": "2024-04-25T14:00:17.476841",
     "status": "completed"
    },
    "tags": []
   },
   "outputs": [
    {
     "name": "stdout",
     "output_type": "stream",
     "text": [
      "Accuracy: 0.6634462334513184\n",
      "F1 Score: 0.7976767990568593\n",
      "Precision: 0.7976767990568593\n",
      "Recall: 0.7976767990568593\n"
     ]
    }
   ],
   "source": [
    "test_sample_size, precision, recall = test_results\n",
    "\n",
    "# Calculate True Positives (TP), False Positives (FP), and False Negatives (FN)\n",
    "TP = precision * recall * test_sample_size\n",
    "FP = test_sample_size * precision - TP\n",
    "FN = test_sample_size * recall - TP\n",
    "\n",
    "# Calculate True Negatives (TN) and total number of instances (N)\n",
    "N = TP + FP + FN\n",
    "TN = N - (TP + FP + FN)\n",
    "\n",
    "# Calculate Accuracy\n",
    "accuracy = (TP + TN) / N\n",
    "\n",
    "# Calculate F1 Score\n",
    "F1 = 2 * (precision * recall) / (precision + recall)\n",
    "\n",
    "print(\"Accuracy:\", accuracy)\n",
    "print(\"F1 Score:\", F1)\n",
    "print(\"Precision:\", precision)\n",
    "print(\"Recall:\", recall)"
   ]
  },
  {
   "cell_type": "code",
   "execution_count": 33,
   "id": "2c0e82ef",
   "metadata": {
    "execution": {
     "iopub.execute_input": "2024-04-25T14:00:17.548185Z",
     "iopub.status.busy": "2024-04-25T14:00:17.547538Z",
     "iopub.status.idle": "2024-04-25T14:00:17.852988Z",
     "shell.execute_reply": "2024-04-25T14:00:17.851933Z"
    },
    "papermill": {
     "duration": 0.329113,
     "end_time": "2024-04-25T14:00:17.855524",
     "exception": false,
     "start_time": "2024-04-25T14:00:17.526411",
     "status": "completed"
    },
    "tags": []
   },
   "outputs": [],
   "source": [
    "myModel.save_model(r\"D:\\created_models\")"
   ]
  },
  {
   "cell_type": "code",
   "execution_count": null,
   "id": "13bc4055",
   "metadata": {
    "papermill": {
     "duration": 0.01848,
     "end_time": "2024-04-25T14:00:17.893668",
     "exception": false,
     "start_time": "2024-04-25T14:00:17.875188",
     "status": "completed"
    },
    "tags": []
   },
   "outputs": [],
   "source": []
  }
 ],
 "metadata": {
  "kaggle": {
   "accelerator": "none",
   "dataSources": [
    {
     "datasetId": 4877947,
     "sourceId": 8226582,
     "sourceType": "datasetVersion"
    },
    {
     "datasetId": 4878026,
     "sourceId": 8226694,
     "sourceType": "datasetVersion"
    },
    {
     "datasetId": 4878227,
     "sourceId": 8226955,
     "sourceType": "datasetVersion"
    }
   ],
   "dockerImageVersionId": 30702,
   "isGpuEnabled": false,
   "isInternetEnabled": false,
   "language": "python",
   "sourceType": "notebook"
  },
  "kernelspec": {
   "display_name": "Python 3",
   "language": "python",
   "name": "python3"
  },
  "language_info": {
   "codemirror_mode": {
    "name": "ipython",
    "version": 3
   },
   "file_extension": ".py",
   "mimetype": "text/x-python",
   "name": "python",
   "nbconvert_exporter": "python",
   "pygments_lexer": "ipython3",
   "version": "3.10.13"
  },
  "papermill": {
   "default_parameters": {},
   "duration": 183.862359,
   "end_time": "2024-04-25T14:00:20.488027",
   "environment_variables": {},
   "exception": null,
   "input_path": "__notebook__.ipynb",
   "output_path": "__notebook__.ipynb",
   "parameters": {},
   "start_time": "2024-04-25T13:57:16.625668",
   "version": "2.5.0"
  }
 },
 "nbformat": 4,
 "nbformat_minor": 5
}
